{
 "cells": [
  {
   "cell_type": "code",
   "execution_count": 1,
   "metadata": {
    "collapsed": true
   },
   "outputs": [],
   "source": [
    "import numpy as np"
   ]
  },
  {
   "cell_type": "code",
   "execution_count": 2,
   "metadata": {
    "collapsed": false
   },
   "outputs": [
    {
     "name": "stderr",
     "output_type": "stream",
     "text": [
      "/opt/conda/lib/python3.5/site-packages/matplotlib/font_manager.py:273: UserWarning: Matplotlib is building the font cache using fc-list. This may take a moment.\n",
      "  warnings.warn('Matplotlib is building the font cache using fc-list. This may take a moment.')\n",
      "/opt/conda/lib/python3.5/site-packages/matplotlib/font_manager.py:273: UserWarning: Matplotlib is building the font cache using fc-list. This may take a moment.\n",
      "  warnings.warn('Matplotlib is building the font cache using fc-list. This may take a moment.')\n"
     ]
    }
   ],
   "source": [
    "import pandas as pd\n",
    "import matplotlib.pyplot as plt\n",
    "import seaborn as sns"
   ]
  },
  {
   "cell_type": "code",
   "execution_count": 3,
   "metadata": {
    "collapsed": false
   },
   "outputs": [
    {
     "ename": "ImportError",
     "evalue": "No module named 'plotly'",
     "output_type": "error",
     "traceback": [
      "\u001b[0;31m---------------------------------------------------------------------------\u001b[0m",
      "\u001b[0;31mImportError\u001b[0m                               Traceback (most recent call last)",
      "\u001b[0;32m<ipython-input-3-c27a4132ad2e>\u001b[0m in \u001b[0;36m<module>\u001b[0;34m()\u001b[0m\n\u001b[0;32m----> 1\u001b[0;31m \u001b[0;32mimport\u001b[0m \u001b[0mplotly\u001b[0m\u001b[0;34m\u001b[0m\u001b[0m\n\u001b[0m",
      "\u001b[0;31mImportError\u001b[0m: No module named 'plotly'"
     ]
    }
   ],
   "source": [
    "import plotly"
   ]
  },
  {
   "cell_type": "code",
   "execution_count": 4,
   "metadata": {
    "collapsed": true
   },
   "outputs": [],
   "source": [
    "import scipy "
   ]
  },
  {
   "cell_type": "code",
   "execution_count": 5,
   "metadata": {
    "collapsed": false
   },
   "outputs": [
    {
     "ename": "ImportError",
     "evalue": "No module named 'cufflinks'",
     "output_type": "error",
     "traceback": [
      "\u001b[0;31m---------------------------------------------------------------------------\u001b[0m",
      "\u001b[0;31mImportError\u001b[0m                               Traceback (most recent call last)",
      "\u001b[0;32m<ipython-input-5-727a8f30b326>\u001b[0m in \u001b[0;36m<module>\u001b[0;34m()\u001b[0m\n\u001b[0;32m----> 1\u001b[0;31m \u001b[0;32mimport\u001b[0m \u001b[0mcufflinks\u001b[0m\u001b[0;34m\u001b[0m\u001b[0m\n\u001b[0m",
      "\u001b[0;31mImportError\u001b[0m: No module named 'cufflinks'"
     ]
    }
   ],
   "source": [
    "import cufflinks"
   ]
  },
  {
   "cell_type": "code",
   "execution_count": 6,
   "metadata": {
    "collapsed": false
   },
   "outputs": [
    {
     "name": "stdout",
     "output_type": "stream",
     "text": [
      "Collecting cufflinks\n",
      "  Downloading https://files.pythonhosted.org/packages/d2/48/24538909ab7bbccfeaf4e506b711fef5b91381a9233ede98ca54936891a8/cufflinks-0.13.0.tar.gz (55kB)\n",
      "\u001b[K    100% |████████████████████████████████| 61kB 4.3MB/s \n",
      "\u001b[?25hRequirement already satisfied (use --upgrade to upgrade): pandas in /opt/conda/lib/python3.5/site-packages (from cufflinks)\n",
      "Collecting plotly>=2.0.0 (from cufflinks)\n",
      "  Downloading https://files.pythonhosted.org/packages/38/b0/86f6d2443a64be0e30543065c6839d0e033a41ffb7fa4ad0760ae9c3b534/plotly-3.1.1-py2.py3-none-any.whl (36.9MB)\n",
      "\u001b[K    100% |████████████████████████████████| 36.9MB 30kB/s \n",
      "\u001b[?25hCollecting colorlover>=0.2 (from cufflinks)\n",
      "  Downloading https://files.pythonhosted.org/packages/ec/29/2f48e4412213adead8402dd358780a4d975263eda14c0fdd3cae9fae8763/colorlover-0.2.1.tar.gz\n",
      "Requirement already satisfied (use --upgrade to upgrade): python-dateutil>=2 in /opt/conda/lib/python3.5/site-packages (from pandas->cufflinks)\n",
      "Requirement already satisfied (use --upgrade to upgrade): pytz>=2011k in /opt/conda/lib/python3.5/site-packages (from pandas->cufflinks)\n",
      "Requirement already satisfied (use --upgrade to upgrade): numpy>=1.7.0 in /opt/conda/lib/python3.5/site-packages (from pandas->cufflinks)\n",
      "Requirement already satisfied (use --upgrade to upgrade): six in /opt/conda/lib/python3.5/site-packages (from plotly>=2.0.0->cufflinks)\n",
      "Requirement already satisfied (use --upgrade to upgrade): decorator>=4.0.6 in /opt/conda/lib/python3.5/site-packages (from plotly>=2.0.0->cufflinks)\n",
      "Requirement already satisfied (use --upgrade to upgrade): requests in /opt/conda/lib/python3.5/site-packages (from plotly>=2.0.0->cufflinks)\n",
      "Collecting retrying>=1.3.3 (from plotly>=2.0.0->cufflinks)\n",
      "  Downloading https://files.pythonhosted.org/packages/44/ef/beae4b4ef80902f22e3af073397f079c96969c69b2c7d52a57ea9ae61c9d/retrying-1.3.3.tar.gz\n",
      "Collecting nbformat>=4.2 (from plotly>=2.0.0->cufflinks)\n",
      "  Downloading https://files.pythonhosted.org/packages/da/27/9a654d2b6cc1eaa517d1c5a4405166c7f6d72f04f6e7eea41855fe808a46/nbformat-4.4.0-py2.py3-none-any.whl (155kB)\n",
      "\u001b[K    100% |████████████████████████████████| 163kB 4.4MB/s \n",
      "\u001b[?25hRequirement already satisfied (use --upgrade to upgrade): traitlets>=4.1 in /opt/conda/lib/python3.5/site-packages (from nbformat>=4.2->plotly>=2.0.0->cufflinks)\n",
      "Requirement already satisfied (use --upgrade to upgrade): jupyter-core in /opt/conda/lib/python3.5/site-packages (from nbformat>=4.2->plotly>=2.0.0->cufflinks)\n",
      "Requirement already satisfied (use --upgrade to upgrade): ipython-genutils in /opt/conda/lib/python3.5/site-packages (from nbformat>=4.2->plotly>=2.0.0->cufflinks)\n",
      "Requirement already satisfied (use --upgrade to upgrade): jsonschema!=2.5.0,>=2.4 in /opt/conda/lib/python3.5/site-packages (from nbformat>=4.2->plotly>=2.0.0->cufflinks)\n",
      "Building wheels for collected packages: cufflinks, colorlover, retrying\n",
      "  Running setup.py bdist_wheel for cufflinks ... \u001b[?25l-\b \b\\\b \bdone\n",
      "\u001b[?25h  Stored in directory: /home/jovyan/.cache/pip/wheels/10/78/8f/c9085ae409e556466c35584178fa7c3145c3265e7f324817fb\n",
      "  Running setup.py bdist_wheel for colorlover ... \u001b[?25l-\b \b\\\b \bdone\n",
      "\u001b[?25h  Stored in directory: /home/jovyan/.cache/pip/wheels/fc/c3/f7/fde32e0d906ad64fe8011a823ea39e0197616116150f4a8376\n",
      "  Running setup.py bdist_wheel for retrying ... \u001b[?25l-\b \b\\\b \bdone\n",
      "\u001b[?25h  Stored in directory: /home/jovyan/.cache/pip/wheels/d7/a9/33/acc7b709e2a35caa7d4cae442f6fe6fbf2c43f80823d46460c\n",
      "Successfully built cufflinks colorlover retrying\n",
      "Installing collected packages: retrying, nbformat, plotly, colorlover, cufflinks\n",
      "  Found existing installation: nbformat 4.1.0\n",
      "    Uninstalling nbformat-4.1.0:\n",
      "      Successfully uninstalled nbformat-4.1.0\n",
      "Successfully installed colorlover-0.2.1 cufflinks-0.13.0 nbformat-4.4.0 plotly-3.1.1 retrying-1.3.3\n",
      "\u001b[33mYou are using pip version 8.1.2, however version 18.0 is available.\n",
      "You should consider upgrading via the 'pip install --upgrade pip' command.\u001b[0m\n"
     ]
    }
   ],
   "source": [
    "! pip install cufflinks"
   ]
  },
  {
   "cell_type": "code",
   "execution_count": 7,
   "metadata": {
    "collapsed": false
   },
   "outputs": [
    {
     "name": "stdout",
     "output_type": "stream",
     "text": [
      "Collecting pip\n",
      "  Downloading https://files.pythonhosted.org/packages/5f/25/e52d3f31441505a5f3af41213346e5b6c221c9e086a166f3703d2ddaf940/pip-18.0-py2.py3-none-any.whl (1.3MB)\n",
      "\u001b[K    100% |████████████████████████████████| 1.3MB 566kB/s \n",
      "\u001b[?25hInstalling collected packages: pip\n",
      "  Found existing installation: pip 8.1.2\n",
      "    Uninstalling pip-8.1.2:\n",
      "      Successfully uninstalled pip-8.1.2\n",
      "Successfully installed pip-18.0\n"
     ]
    }
   ],
   "source": [
    "! pip install --upgrade pip"
   ]
  },
  {
   "cell_type": "code",
   "execution_count": 8,
   "metadata": {
    "collapsed": false
   },
   "outputs": [
    {
     "name": "stderr",
     "output_type": "stream",
     "text": [
      "/opt/conda/lib/python3.5/site-packages/plotly/graph_objs/_deprecations.py:558: DeprecationWarning:\n",
      "\n",
      "plotly.graph_objs.YAxis is deprecated.\n",
      "Please replace it with one of the following more specific types\n",
      "  - plotly.graph_objs.layout.YAxis\n",
      "  - plotly.graph_objs.layout.scene.YAxis\n",
      "\n",
      "\n",
      "/opt/conda/lib/python3.5/site-packages/plotly/graph_objs/_deprecations.py:531: DeprecationWarning:\n",
      "\n",
      "plotly.graph_objs.XAxis is deprecated.\n",
      "Please replace it with one of the following more specific types\n",
      "  - plotly.graph_objs.layout.XAxis\n",
      "  - plotly.graph_objs.layout.scene.XAxis\n",
      "\n",
      "\n"
     ]
    }
   ],
   "source": [
    "import cufflinks"
   ]
  },
  {
   "cell_type": "code",
   "execution_count": null,
   "metadata": {
    "collapsed": true
   },
   "outputs": [],
   "source": []
  }
 ],
 "metadata": {
  "kernelspec": {
   "display_name": "Python 3",
   "language": "python",
   "name": "python3"
  },
  "language_info": {
   "codemirror_mode": {
    "name": "ipython",
    "version": 3
   },
   "file_extension": ".py",
   "mimetype": "text/x-python",
   "name": "python",
   "nbconvert_exporter": "python",
   "pygments_lexer": "ipython3",
   "version": "3.5.2"
  }
 },
 "nbformat": 4,
 "nbformat_minor": 1
}
